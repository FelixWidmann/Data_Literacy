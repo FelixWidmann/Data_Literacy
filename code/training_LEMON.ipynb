{
 "cells": [
  {
   "cell_type": "code",
   "execution_count": 39,
   "metadata": {},
   "outputs": [],
   "source": [
    "# Import Libraries\n",
    "import mlflow\n",
    "import mlflow.sklearn\n",
    "\n",
    "import numpy as np\n",
    "from itertools import product\n",
    "\n",
    "import pandas as pd\n",
    "\n",
    "from sklearn.model_selection import train_test_split\n",
    "from sklearn.ensemble import RandomForestClassifier\n",
    "from sklearn.linear_model import LogisticRegression\n",
    "from sklearn.svm import SVC\n",
    "from sklearn.metrics import classification_report, accuracy_score\n",
    "from sklearn.preprocessing import StandardScaler"
   ]
  },
  {
   "cell_type": "code",
   "execution_count": 43,
   "metadata": {},
   "outputs": [
    {
     "name": "stdout",
     "output_type": "stream",
     "text": [
      "Loading data from ../data/cleaned_processed_data.csv...\n",
      "Data loaded successfully with 181 training samples and 46 test samples.\n"
     ]
    }
   ],
   "source": [
    "# Load Data\n",
    "data_file = \"../data/cleaned_processed_data.csv\"\n",
    "print(f\"Loading data from {data_file}...\")\n",
    "\n",
    "merged_data_clean = pd.read_csv(data_file)\n",
    "\n",
    "# Define Features and Target\n",
    "features = [\n",
    "    \"CERQ_Sum\", \"ERQ_Sum\", \"MSPSS_Sum\", \"FSoZu_Sum\", \n",
    "    \"BISBAS_Total\", \"NEO_Sum\", \"STAI_Sum\", \"STAXI_Sum\", \n",
    "    \"CVLT_Sum\", \"TAP_Sum\", \"BloodPressure_Mean\", \"Age_Numeric\"\n",
    "]\n",
    "target = \"Relationship_Status\"\n",
    "\n",
    "# Train-Test Split\n",
    "X = merged_data_clean[features]\n",
    "y = merged_data_clean[target]\n",
    "\n",
    "X_train, X_test, y_train, y_test = train_test_split(\n",
    "    X, y, test_size=0.2, random_state=42\n",
    ")\n",
    "print(f\"Data loaded successfully with {len(X_train)} training samples and {len(X_test)} test samples.\")\n",
    "\n",
    "# Standardize Features\n",
    "scaler = StandardScaler()\n",
    "X_train_scaled = scaler.fit_transform(X_train)\n",
    "X_test_scaled = scaler.transform(X_test)"
   ]
  },
  {
   "cell_type": "code",
   "execution_count": 44,
   "metadata": {},
   "outputs": [
    {
     "data": {
      "text/plain": [
       "<Experiment: artifact_location='file:///Users/samuel/Desktop/EKU%20Tu%CC%88bingen/data_literacy/project/repo/LEMON-Love-Predictor/code/mlruns/519230377073851292', creation_time=1734621565013, experiment_id='519230377073851292', last_update_time=1734621565013, lifecycle_stage='active', name='LEMON_Prediction_Relationship', tags={}>"
      ]
     },
     "execution_count": 44,
     "metadata": {},
     "output_type": "execute_result"
    }
   ],
   "source": [
    "# Set MLflow Experiment\n",
    "mlflow.set_experiment(\"LEMON_Prediction_Relationship\")\n",
    "\n",
    "# Start the MLflow UI (Run this in the terminal if needed)\n",
    "#!mlflow ui"
   ]
  },
  {
   "cell_type": "code",
   "execution_count": 45,
   "metadata": {},
   "outputs": [],
   "source": [
    "# Define Model Training Function\n",
    "def train_model(model_type, max_iter, C, n_estimators, kernel):\n",
    "    # Load Data\n",
    "    X_train, X_test, y_train, y_test = load_data()\n",
    "\n",
    "    # Initialize Model\n",
    "    if model_type == \"Logistic Regression\":\n",
    "        model = LogisticRegression(max_iter=max_iter, C=C, solver='lbfgs')\n",
    "    elif model_type == \"Random Forest\":\n",
    "        model = RandomForestClassifier(n_estimators=n_estimators, max_depth=10, random_state=42)\n",
    "    elif model_type == \"SVM\":\n",
    "        model = SVC(C=C, kernel=kernel, max_iter=max_iter, probability=True)\n",
    "    \n",
    "    # Train the Model\n",
    "    model.fit(X_train, y_train)\n",
    "\n",
    "    # Evaluate the Model\n",
    "    y_pred = model.predict(X_test)\n",
    "    acc = accuracy_score(y_test, y_pred)\n",
    "    report = classification_report(y_test, y_pred, output_dict=True)\n",
    "    \n",
    "    print(f\"Model: {model_type}, Accuracy: {acc:.4f}\")\n",
    "    print(classification_report(y_test, y_pred))\n",
    "\n",
    "    # Log Model and Metrics in MLflow\n",
    "    with mlflow.start_run(run_name=f\"{model_type}_{kernel}_run\"):\n",
    "        mlflow.log_param(\"model_type\", model_type)\n",
    "        mlflow.log_param(\"max_iter\", max_iter)\n",
    "        mlflow.log_param(\"C\", C)\n",
    "        mlflow.log_param(\"n_estimators\", n_estimators)\n",
    "        mlflow.log_param(\"kernel\", kernel)\n",
    "        mlflow.log_metric(\"accuracy\", acc)\n",
    "        \n",
    "        mlflow.sklearn.log_model(model, artifact_path=\"model\")"
   ]
  },
  {
   "cell_type": "code",
   "execution_count": 46,
   "metadata": {},
   "outputs": [],
   "source": [
    "# Define Hyperparameter Sweep Config\n",
    "sweep_config = {\n",
    "    \"model_type\": [ \"Random Forest\", \"SVM\"],\n",
    "    \"max_iter\": list(range(100, 1001, 100)),\n",
    "    \"C\": np.linspace(0.1, 10, 10).tolist(),\n",
    "    \"n_estimators\": list(range(50, 301, 50)),\n",
    "    \"kernel\": [\"linear\", \"rbf\"]\n",
    "}\n",
    "\n",
    "# Create All Combinations\n",
    "sweep_params = list(product(\n",
    "    sweep_config[\"model_type\"], \n",
    "    sweep_config[\"max_iter\"], \n",
    "    sweep_config[\"C\"], \n",
    "    sweep_config[\"n_estimators\"], \n",
    "    sweep_config[\"kernel\"]\n",
    "))"
   ]
  },
  {
   "cell_type": "code",
   "execution_count": null,
   "metadata": {},
   "outputs": [],
   "source": [
    "# Execute Model Training for All Combinations\n",
    "for params in sweep_params:\n",
    "    model_type, max_iter, C, n_estimators, kernel = params\n",
    "\n",
    "    # Skip Irrelevant Combinations\n",
    "    if model_type == \"Logistic Regression\" and kernel != \"linear\":\n",
    "        continue\n",
    "    \n",
    "    train_model(model_type, max_iter, C, n_estimators, kernel)"
   ]
  }
 ],
 "metadata": {
  "kernelspec": {
   "display_name": "Python 3",
   "language": "python",
   "name": "python3"
  },
  "language_info": {
   "codemirror_mode": {
    "name": "ipython",
    "version": 3
   },
   "file_extension": ".py",
   "mimetype": "text/x-python",
   "name": "python",
   "nbconvert_exporter": "python",
   "pygments_lexer": "ipython3",
   "version": "3.10.4"
  }
 },
 "nbformat": 4,
 "nbformat_minor": 2
}
